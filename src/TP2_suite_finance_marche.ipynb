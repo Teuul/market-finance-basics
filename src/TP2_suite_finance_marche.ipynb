{
 "cells": [
  {
   "cell_type": "code",
   "execution_count": null,
   "metadata": {
    "id": "D3NeW7jnNlUE"
   },
   "outputs": [],
   "source": [
    "import numpy as np\n",
    "import matplotlib.pyplot as plt"
   ]
  },
  {
   "cell_type": "code",
   "execution_count": null,
   "metadata": {
    "id": "178w-BE8N383"
   },
   "outputs": [],
   "source": [
    "T = 5\n",
    "n = 1000\n",
    "N = 1000\n",
    "step = T / n\n",
    "\n",
    "r0 = 1 / 100\n",
    "a = 0.3\n",
    "b = 2 / 100\n",
    "gamma = 10 / 100\n",
    "\n",
    "S_tilde_0 = 80\n",
    "S_0 = 1"
   ]
  },
  {
   "cell_type": "code",
   "execution_count": null,
   "metadata": {
    "id": "6hwvYejOONui"
   },
   "outputs": [],
   "source": [
    "def r(t, r_prev, G, G_barre):\n",
    "    delta = np.sqrt(step) * (1 / 2 * G + np.sqrt(3 / 4) * G_barre)\n",
    "    return r_prev + a * (b - r_prev) * step + gamma * delta\n",
    "\n",
    "\n",
    "def sigma(t, x):\n",
    "    return 10 / 100 * (2 + np.cos(2 * np.pi * t / T) + 1 / (1 + x**2))\n",
    "\n",
    "\n",
    "def S_tilde(t, S_tilde_prev, G):\n",
    "    return S_tilde_prev + sigma(t, S_tilde_prev) * S_tilde_prev * step * G\n",
    "\n",
    "\n",
    "def S(t, S_prev, r_prev):\n",
    "    return S_prev + r_prev * S_prev * step"
   ]
  }
 ],
 "metadata": {
  "colab": {
   "provenance": []
  },
  "kernelspec": {
   "display_name": "Python 3",
   "name": "python3"
  },
  "language_info": {
   "name": "python"
  }
 },
 "nbformat": 4,
 "nbformat_minor": 0
}
